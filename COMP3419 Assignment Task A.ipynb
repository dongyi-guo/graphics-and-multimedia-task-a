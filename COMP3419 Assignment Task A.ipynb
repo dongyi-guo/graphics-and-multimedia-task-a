{
 "cells": [
  {
   "cell_type": "code",
   "execution_count": 1,
   "metadata": {},
   "outputs": [],
   "source": [
    "# Task A - Montion Caputure & Visualization\n",
    "# Name: Dongyi Guo\n",
    "# Student ID: 470033070\n",
    "# UniKey: dguo0006"
   ]
  },
  {
   "cell_type": "code",
   "execution_count": 3,
   "metadata": {},
   "outputs": [],
   "source": [
    "#Headers:\n",
    "import os\n",
    "import sys\n",
    "import cv2\n",
    "import math\n",
    "import random\n",
    "import matplotlib\n",
    "import numpy as np\n",
    "from matplotlib import pyplot as plt\n",
    "%matplotlib inline\n",
    "from IPython.display import clear_output"
   ]
  },
  {
   "cell_type": "code",
   "execution_count": 4,
   "metadata": {},
   "outputs": [],
   "source": [
    "# Appendix\n",
    "def arrowdraw(img_draw, x1, y1, x2, y2):\n",
    "    radians = math.atan2(x1-x2, y2-y1)\n",
    "    x11 = 0\n",
    "    y11 = 0\n",
    "    x12 = -5\n",
    "    y12 = -5\n",
    "\n",
    "    u11 = 0\n",
    "    v11 = 0\n",
    "    u12 = 5\n",
    "    v12 = -5\n",
    "    \n",
    "    x11_ = x11*math.cos(radians) - y11*math.sin(radians) + x2\n",
    "    y11_ = x11*math.sin(radians) + y11*math.cos(radians) + y2\n",
    "\n",
    "    x12_ = x12 * math.cos(radians) - y12 * math.sin(radians) + x2\n",
    "    y12_ = x12 * math.sin(radians) + y12 * math.cos(radians) + y2\n",
    "    \n",
    "    u11_ = u11 * math.cos(radians) - v11 * math.sin(radians) + x2\n",
    "    v11_ = u11 * math.sin(radians) + v11 * math.cos(radians) + y2\n",
    "\n",
    "    u12_ = u12 * math.cos(radians) - v12 * math.sin(radians) + x2\n",
    "    v12_ = u12 * math.sin(radians) + v12 * math.cos(radians) + y2\n",
    "    img_draw = cv2.line(img_draw, (x1, y1), (x2, y2), (0, 255, 255), 2)\n",
    "    img_draw = cv2.line(img_draw, (int(x11_), int(y11_)), (int(x12_), int(y12_)),\n",
    "                        (0, 255, 255), 2)\n",
    "    img_draw = cv2.line(img_draw, (int(u11_), int(v11_)), (int(u12_), int(v12_)),\n",
    "                        (0, 255, 255), 2)\n",
    "    \n",
    "    return img_draw"
   ]
  },
  {
   "cell_type": "code",
   "execution_count": 5,
   "metadata": {},
   "outputs": [],
   "source": [
    "def create_dir(dir_):\n",
    "    if not os.path.exists(dir_):\n",
    "        os.mkdir(dir_)\n",
    "    else:\n",
    "        print(dir_ + \" exists\")\n",
    "frame_save_path = './frames/'\n",
    "frame_num = 749"
   ]
  },
  {
   "cell_type": "code",
   "execution_count": 6,
   "metadata": {},
   "outputs": [],
   "source": [
    "def calc_ssd(a,b):\n",
    "    ssd = np.sum((a-b)**2)\n",
    "    return ssd"
   ]
  },
  {
   "cell_type": "code",
   "execution_count": 7,
   "metadata": {
    "scrolled": true
   },
   "outputs": [
    {
     "name": "stdout",
     "output_type": "stream",
     "text": [
      "Video Ends\n"
     ]
    }
   ],
   "source": [
    "#Convert Monkey video to frames\n",
    "path_to_video = 'data/monkey_TaskA.mov'\n",
    "cap = cv2.VideoCapture(path_to_video)\n",
    "if not cap.isOpened():\n",
    "    print('{} not opened'.format(path_to_video))\n",
    "    sys.exit(1)\n",
    "time_length = int(cap.get(cv2.CAP_PROP_FRAME_COUNT))\n",
    "frame_height = cap.get(cv2.CAP_PROP_FRAME_HEIGHT)\n",
    "frame_width = cap.get(cv2.CAP_PROP_FRAME_WIDTH)\n",
    "frame_counter = 0\n",
    "frame_num = 0\n",
    "frame_save_path = './frames/'\n",
    "create_dir(frame_save_path)\n",
    "\n",
    "print(\"Processing...\")\n",
    "while True:\n",
    "    ret, frame = cap.read()\n",
    "    if not ret:\n",
    "        print('Video Ends')\n",
    "        frame_num = frame_counter - 1\n",
    "        break\n",
    "    path = frame_save_path + 'frame{}.tif'.format(frame_counter)\n",
    "    print('Extracting: %d' % frame_counter)\n",
    "    clear_output(wait=True)\n",
    "    cv2.imwrite(path,frame)\n",
    "    frame_counter += 1\n",
    "    if cv2.waitKey(30) & 0xff == ord('q'):\n",
    "        break\n",
    "cap.release()\n",
    "cv2.destroyAllWindows()"
   ]
  },
  {
   "cell_type": "code",
   "execution_count": 8,
   "metadata": {
    "scrolled": true
   },
   "outputs": [
    {
     "name": "stdout",
     "output_type": "stream",
     "text": [
      "No more frames\n",
      "Done!\n"
     ]
    }
   ],
   "source": [
    "#Draw the movements for each frames\n",
    "frame_processed_path = './processed/'\n",
    "create_dir(frame_processed_path)\n",
    "kl = 15\n",
    "hkl = 7\n",
    "frame_counter = 0\n",
    "print(\"Processing...\")\n",
    "while True:\n",
    "    img = cv2.imread(frame_save_path + 'frame%d.tif' % frame_counter)\n",
    "    img2 = cv2.imread(frame_save_path + 'frame%d.tif' % (frame_counter + 1))\n",
    "    if img2 is None:\n",
    "        clear_output(wait=True)\n",
    "        print(\"No more frames\")\n",
    "        break\n",
    "    iw = img.shape[1]\n",
    "    ih = img.shape[0]\n",
    "    grid_w = iw/kl\n",
    "    for y in range(50,ih-50,kl):\n",
    "        for x in range(50,iw-50,kl):\n",
    "            if img[y,x,0] < 120:\n",
    "                ssd_min = sys.maxsize\n",
    "                grid_this = img[x-hkl:x+hkl,y-hkl:y+hkl]\n",
    "                wanted_x = 0\n",
    "                wanted_y = 0\n",
    "                for gby in range(int(y - kl),int(y + kl*2),kl):\n",
    "                    for gbx in range(int(x - kl),int(y + kl*2),kl):\n",
    "                        grid_next = img2[gbx-hkl:gbx+hkl,gby-hkl:gby+hkl]\n",
    "                        now = calc_ssd(grid_next,grid_this)\n",
    "                        #print(\"This: \",x,y,gbx,gby,now);\n",
    "                        if now < ssd_min:\n",
    "                            ssd_min = now\n",
    "                            #print(gbx,gby,ssd_min);\n",
    "                            wanted_x = gbx\n",
    "                            wanted_y = gby\n",
    "                if wanted_x != 0 and wanted_y != 0:\n",
    "                    if x != wanted_x and y != wanted_y:\n",
    "                        img = arrowdraw(img,x,y,wanted_x,wanted_y)\n",
    "    output = cv2.imwrite(frame_processed_path + 'prcessed%d.tif' % frame_counter,img)\n",
    "    clear_output(wait=True)\n",
    "    print(\"Generating: %d%%\" % int(100*frame_counter/frame_num))\n",
    "    frame_counter += 1\n",
    "cv2.destroyAllWindows()\n",
    "print(\"Done!\") "
   ]
  },
  {
   "cell_type": "code",
   "execution_count": 9,
   "metadata": {
    "pycharm": {
     "name": "#%%\n"
    }
   },
   "outputs": [
    {
     "name": "stdout",
     "output_type": "stream",
     "text": [
      "No more frames to be loaded\n",
      "Done!\n"
     ]
    }
   ],
   "source": [
    "count = 0\n",
    "out = cv2.VideoWriter('./taska.mov', cv2.VideoWriter_fourcc('M', 'J', 'P', 'G'), 10, (int(frame_width), int(frame_height)))\n",
    "while True:\n",
    "    img = cv2.imread(frame_processed_path + 'prcessed%d.tif' % count)\n",
    "    if img is None:\n",
    "        print('No more frames to be loaded')\n",
    "        break\n",
    "    print(\"Generating Videos: %d%%\" % int(100*count/frame_num))\n",
    "    clear_output(wait=True)\n",
    "    out.write(img)\n",
    "    count += 1\n",
    "out.release()\n",
    "cv2.destroyAllWindows()\n",
    "print(\"Done!\")"
   ]
  }
 ],
 "metadata": {
  "kernelspec": {
   "display_name": "Python 3",
   "language": "python",
   "name": "python3"
  },
  "language_info": {
   "codemirror_mode": {
    "name": "ipython",
    "version": 3
   },
   "file_extension": ".py",
   "mimetype": "text/x-python",
   "name": "python",
   "nbconvert_exporter": "python",
   "pygments_lexer": "ipython3",
   "version": "3.7.4"
  }
 },
 "nbformat": 4,
 "nbformat_minor": 2
}